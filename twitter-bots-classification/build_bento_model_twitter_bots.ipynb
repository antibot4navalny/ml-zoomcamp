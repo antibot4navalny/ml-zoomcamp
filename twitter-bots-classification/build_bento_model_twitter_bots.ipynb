{
 "cells": [
  {
   "cell_type": "markdown",
   "metadata": {
    "id": "FeDmceu1atWN"
   },
   "source": [
    "# Build BentoML model for Twitter bot classification problem\n"
   ]
  },
  {
   "cell_type": "markdown",
   "metadata": {
    "id": "z0cSsJLbbCbL"
   },
   "source": [
    "## Load libraries"
   ]
  },
  {
   "cell_type": "code",
   "execution_count": 1,
   "metadata": {
    "id": "7rEFHRzyaYqB"
   },
   "outputs": [],
   "source": [
    "import datetime\n",
    "\n",
    "import numpy as np\n",
    "import pandas as pd\n",
    "\n",
    "from sklearn.model_selection import train_test_split\n",
    "from sklearn.feature_extraction import DictVectorizer\n",
    "from sklearn.ensemble import RandomForestClassifier\n",
    "\n",
    "import bentoml"
   ]
  },
  {
   "cell_type": "markdown",
   "metadata": {
    "id": "to7WfnWNbE08"
   },
   "source": [
    "# Load data and prepare"
   ]
  },
  {
   "cell_type": "code",
   "execution_count": 2,
   "metadata": {
    "id": "0cq1ezUja9Yj"
   },
   "outputs": [],
   "source": [
    "data = \"https://raw.githubusercontent.com/darkcorpd/ml-zoomcamp/main/twitter-bots-classification/data/twitter_profiles_dataset.csv\"\n",
    "df = pd.read_csv(data)"
   ]
  },
  {
   "cell_type": "code",
   "execution_count": 3,
   "metadata": {
    "id": "MKO6VKtMa9V8"
   },
   "outputs": [],
   "source": [
    "# convert to datetime datatype\n",
    "df['created_at'] = pd.to_datetime(df['created_at'])\n",
    "\n",
    "today = datetime.datetime.now(df.created_at[0].tzinfo)\n",
    "df['life_span'] = (today - df['created_at']).dt.days"
   ]
  },
  {
   "cell_type": "code",
   "execution_count": 4,
   "metadata": {
    "id": "Nu3zNj2_b_R8"
   },
   "outputs": [],
   "source": [
    "numerical = ['statuses_count',\n",
    "             'followers_count',\n",
    "             'friends_count',\n",
    "             'favourites_count',\n",
    "             'listed_count',\n",
    "             'media_count',\n",
    "             'life_span']\n",
    "\n",
    "categorical = ['default_profile_image',\n",
    "              'geo_enabled',\n",
    "              'protected',\n",
    "              'verified',\n",
    "              'has_custom_timelines',\n",
    "              'advertiser_account_type']\n",
    "\n",
    "features = numerical + categorical"
   ]
  },
  {
   "cell_type": "code",
   "execution_count": 5,
   "metadata": {
    "id": "KUlwAsVDghRU"
   },
   "outputs": [],
   "source": [
    "df = df[features + ['bot']]"
   ]
  },
  {
   "cell_type": "markdown",
   "metadata": {
    "id": "lPX4SSIYiLSR"
   },
   "source": [
    "# Setting up the validation framework"
   ]
  },
  {
   "cell_type": "code",
   "execution_count": 6,
   "metadata": {
    "id": "N0A62zd8a9TD"
   },
   "outputs": [],
   "source": [
    "df_full_train, df_test = train_test_split(df, test_size=0.2, random_state=2)\n",
    "df_full_train = df_full_train.reset_index(drop=True)\n",
    "\n",
    "y_full_train = df_full_train.bot.values\n",
    "\n",
    "del df_full_train['bot']"
   ]
  },
  {
   "cell_type": "markdown",
   "metadata": {
    "id": "v_F82aYMiCg5"
   },
   "source": [
    "## One-hot encoding"
   ]
  },
  {
   "cell_type": "code",
   "execution_count": 7,
   "metadata": {
    "id": "bSzMGcPva9Fe"
   },
   "outputs": [],
   "source": [
    "dicts_full_train = df_full_train.to_dict(orient='records')\n",
    "\n",
    "dv = DictVectorizer(sparse=False)\n",
    "X_full_train = dv.fit_transform(dicts_full_train)"
   ]
  },
  {
   "cell_type": "markdown",
   "metadata": {
    "id": "qcKcY-4ojVUZ"
   },
   "source": [
    "## Training Random forest\n",
    "as the best selected model"
   ]
  },
  {
   "cell_type": "code",
   "execution_count": 8,
   "metadata": {
    "colab": {
     "base_uri": "https://localhost:8080/"
    },
    "id": "df-7LWN9jU7B",
    "outputId": "08ce6b03-5e0e-47b9-cfdf-e39a1598be2f"
   },
   "outputs": [
    {
     "data": {
      "text/plain": [
       "RandomForestClassifier(max_depth=10, n_estimators=90, random_state=1)"
      ]
     },
     "execution_count": 8,
     "metadata": {},
     "output_type": "execute_result"
    }
   ],
   "source": [
    "model = RandomForestClassifier(n_estimators=90,\n",
    "                            max_depth=10,\n",
    "                            min_samples_leaf=1,\n",
    "                            random_state=1)\n",
    "model.fit(X_full_train, y_full_train)"
   ]
  },
  {
   "cell_type": "markdown",
   "metadata": {
    "id": "6jd1PwKdimwZ"
   },
   "source": [
    "## Save the model into the bentoml.yaml file"
   ]
  },
  {
   "cell_type": "code",
   "execution_count": 9,
   "metadata": {
    "colab": {
     "base_uri": "https://localhost:8080/"
    },
    "id": "KXrP_X43kHWq",
    "outputId": "d879d1e2-9b4a-45ae-8e66-0448e1769a49"
   },
   "outputs": [
    {
     "data": {
      "text/plain": [
       "Model(tag=\"twitter_bot_classify_model:7lt5hulbdgrrvodq\", path=\"C:\\Users\\darkcorp\\bentoml\\models\\twitter_bot_classify_model\\7lt5hulbdgrrvodq\\\")"
      ]
     },
     "execution_count": 9,
     "metadata": {},
     "output_type": "execute_result"
    }
   ],
   "source": [
    "bentoml.sklearn.save_model(\n",
    "    'twitter_bot_classify_model',   # model name in the local model store\n",
    "    model,  # model instance being saved\n",
    "    custom_objects={\n",
    "        'dictVectorizer': dv\n",
    "    },\n",
    "    labels={    # user-defined labels for managing models in Yatai\n",
    "        \"owner\": \"darkcorp\",\n",
    "        \"project\": \"ml-zoomcamp\",\n",
    "    },\n",
    "    signatures={\n",
    "        'predict': {\n",
    "            'batchable': True,\n",
    "            'batch_dim': 0,\n",
    "        }\n",
    "    }\n",
    ")"
   ]
  },
  {
   "cell_type": "code",
   "execution_count": null,
   "metadata": {},
   "outputs": [],
   "source": []
  }
 ],
 "metadata": {
  "colab": {
   "collapsed_sections": [],
   "provenance": []
  },
  "kernelspec": {
   "display_name": "Python 3.9.12 ('base')",
   "language": "python",
   "name": "python3"
  },
  "language_info": {
   "codemirror_mode": {
    "name": "ipython",
    "version": 3
   },
   "file_extension": ".py",
   "mimetype": "text/x-python",
   "name": "python",
   "nbconvert_exporter": "python",
   "pygments_lexer": "ipython3",
   "version": "3.9.12"
  },
  "vscode": {
   "interpreter": {
    "hash": "4d93b61df915b6a4a6bfe7d453ff7f306caebac3f9f09865c2814d9f224af6a0"
   }
  }
 },
 "nbformat": 4,
 "nbformat_minor": 1
}
