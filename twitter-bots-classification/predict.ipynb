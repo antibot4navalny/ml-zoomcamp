{
 "cells": [
  {
   "cell_type": "markdown",
   "id": "1dc87de8",
   "metadata": {},
   "source": [
    "# Predict importing the bentoml model"
   ]
  },
  {
   "cell_type": "code",
   "execution_count": 1,
   "id": "008596ba",
   "metadata": {},
   "outputs": [],
   "source": [
    "import bentoml"
   ]
  },
  {
   "cell_type": "code",
   "execution_count": 2,
   "id": "48f67f44",
   "metadata": {},
   "outputs": [],
   "source": [
    "model_ref = bentoml.sklearn.get(\"twitter_bot_classify_model:7lt5hulbdgrrvodq\")"
   ]
  },
  {
   "cell_type": "code",
   "execution_count": 3,
   "id": "ec26cff4",
   "metadata": {},
   "outputs": [],
   "source": [
    "dv = model_ref.custom_objects[\"dictVectorizer\"]"
   ]
  },
  {
   "cell_type": "code",
   "execution_count": 4,
   "id": "db6bef8d",
   "metadata": {},
   "outputs": [
    {
     "name": "stderr",
     "output_type": "stream",
     "text": [
      "'Runner.init_local' is for debugging and testing only.\n"
     ]
    }
   ],
   "source": [
    "model_runner = model_ref.to_runner()\n",
    "model_runner.init_local()"
   ]
  },
  {
   "cell_type": "code",
   "execution_count": 5,
   "id": "5e61841e",
   "metadata": {},
   "outputs": [],
   "source": [
    "# This user is actually a bot\n",
    "test1 = {\"statuses_count\": 417.0,\n",
    "         \"followers_count\": 0.0,\n",
    "         \"friends_count\": 1.0,\n",
    "         \"favourites_count\": 5.0,\n",
    "         \"listed_count\": 0.0,\n",
    "         \"media_count\": 0.0,\n",
    "         \"life_span\": 124,\n",
    "         \"default_profile_image\": True,\n",
    "         \"geo_enabled\": False,\n",
    "         \"protected\": False,\n",
    "         \"verified\": False,\n",
    "         \"has_custom_timelines\": False,\n",
    "         \"advertiser_account_type\": \"none\"}\n",
    "\n",
    "# This user is actually organic\n",
    "test2 = {\"statuses_count\": 628.0,\n",
    "        \"followers_count\": 10.0,\n",
    "        \"friends_count\": 24.0,\n",
    "        \"favourites_count\": 649.0,\n",
    "        \"listed_count\": 0.0,\n",
    "        \"media_count\": 33.0,\n",
    "        \"life_span\": 216,\n",
    "        \"default_profile_image\": False,\n",
    "        \"geo_enabled\": False,\n",
    "        \"protected\": False,\n",
    "        \"verified\": False,\n",
    "        \"has_custom_timelines\": False,\n",
    "        \"advertiser_account_type\": \"none\"}"
   ]
  },
  {
   "cell_type": "code",
   "execution_count": 6,
   "id": "3b3330a5",
   "metadata": {},
   "outputs": [],
   "source": [
    "def twitter_bot_predict(profile_data):\n",
    "    vector = dv.transform(profile_data)\n",
    "    prediction = model_runner.predict.run(vector)\n",
    "    if prediction == 1:\n",
    "        result = \"BOT\"\n",
    "    elif prediction == 0:\n",
    "        result = \"ORGANIC\"\n",
    "    else:\n",
    "        result = \"CHECK AGAIN\"\n",
    "    print(f'The user is: {result}')"
   ]
  },
  {
   "cell_type": "code",
   "execution_count": 7,
   "id": "2cfb997f",
   "metadata": {},
   "outputs": [
    {
     "name": "stdout",
     "output_type": "stream",
     "text": [
      "The user is: BOT\n"
     ]
    }
   ],
   "source": [
    "twitter_bot_predict(test1)"
   ]
  },
  {
   "cell_type": "code",
   "execution_count": 8,
   "id": "e7600a2e",
   "metadata": {},
   "outputs": [
    {
     "name": "stdout",
     "output_type": "stream",
     "text": [
      "The user is: ORGANIC\n"
     ]
    }
   ],
   "source": [
    "twitter_bot_predict(test2)"
   ]
  }
 ],
 "metadata": {
  "kernelspec": {
   "display_name": "Python 3 (ipykernel)",
   "language": "python",
   "name": "python3"
  },
  "language_info": {
   "codemirror_mode": {
    "name": "ipython",
    "version": 3
   },
   "file_extension": ".py",
   "mimetype": "text/x-python",
   "name": "python",
   "nbconvert_exporter": "python",
   "pygments_lexer": "ipython3",
   "version": "3.9.12"
  },
  "vscode": {
   "interpreter": {
    "hash": "4d93b61df915b6a4a6bfe7d453ff7f306caebac3f9f09865c2814d9f224af6a0"
   }
  }
 },
 "nbformat": 4,
 "nbformat_minor": 5
}
